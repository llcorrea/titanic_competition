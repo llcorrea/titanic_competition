{
  "nbformat": 4,
  "nbformat_minor": 0,
  "metadata": {
    "colab": {
      "name": "Titanic_comp.ipynb",
      "provenance": [],
      "collapsed_sections": [],
      "authorship_tag": "ABX9TyNWXsSMP5meLYQi7iJJx3lX",
      "include_colab_link": true
    },
    "kernelspec": {
      "name": "python3",
      "display_name": "Python 3"
    },
    "language_info": {
      "name": "python"
    }
  },
  "cells": [
    {
      "cell_type": "markdown",
      "metadata": {
        "id": "view-in-github",
        "colab_type": "text"
      },
      "source": [
        "<a href=\"https://colab.research.google.com/github/llcorrea/titanic_competition/blob/master/Titanic_comp.ipynb\" target=\"_parent\"><img src=\"https://colab.research.google.com/assets/colab-badge.svg\" alt=\"Open In Colab\"/></a>"
      ]
    },
    {
      "cell_type": "markdown",
      "metadata": {
        "id": "9U5JW-zRw8dD"
      },
      "source": [
        "# **Titanic - Machine Learning from Disaster**\n",
        "\n",
        "Titanic Dataset from Kaggle Competition"
      ]
    },
    {
      "cell_type": "code",
      "metadata": {
        "id": "O8oiORkwwX9N"
      },
      "source": [
        "import sys\n",
        "import io\n",
        "import pdb\n",
        "import numpy as np\n",
        "import pandas as pd\n",
        "import seaborn as sns\n",
        "import matplotlib.pyplot as plt\n",
        "from sklearn.model_selection import train_test_split\n",
        "from sklearn.metrics import mean_absolute_error\n",
        "from sklearn.ensemble import RandomForestClassifier\n",
        "from sklearn.model_selection import KFold, RepeatedKFold\n",
        "from sklearn.linear_model import LogisticRegression \n",
        "from google.colab import files"
      ],
      "execution_count": 1,
      "outputs": []
    },
    {
      "cell_type": "markdown",
      "metadata": {
        "id": "mSXDeOp53hIR"
      },
      "source": [
        "# **Loading CSV files into Colab from a local drive**"
      ]
    },
    {
      "cell_type": "code",
      "metadata": {
        "id": "DTHUruKB3h1i",
        "colab": {
          "resources": {
            "http://localhost:8080/nbextensions/google.colab/files.js": {
              "data": "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",
              "ok": true,
              "headers": [
                [
                  "content-type",
                  "application/javascript"
                ]
              ],
              "status": 200,
              "status_text": ""
            }
          },
          "base_uri": "https://localhost:8080/",
          "height": 129
        },
        "outputId": "795dacec-91d4-4603-b10d-68001e0765b2"
      },
      "source": [
        "try:\n",
        "  train_data = pd.read_csv('train.csv')  \n",
        "except:\n",
        "  uploaded = files.upload()\n",
        "  train_data = pd.read_csv('train.csv')\n",
        "\n",
        "try:\n",
        "  test_data = pd.read_csv('test.csv')\n",
        "except:\n",
        "  uploaded = files.upload()\n",
        "  test_data = pd.read_csv(io.BytesIO(uploaded['test.csv']))"
      ],
      "execution_count": 2,
      "outputs": [
        {
          "output_type": "display_data",
          "data": {
            "text/html": [
              "\n",
              "     <input type=\"file\" id=\"files-e627025f-c580-4542-8e3d-d930efb9b9d4\" name=\"files[]\" multiple disabled\n",
              "        style=\"border:none\" />\n",
              "     <output id=\"result-e627025f-c580-4542-8e3d-d930efb9b9d4\">\n",
              "      Upload widget is only available when the cell has been executed in the\n",
              "      current browser session. Please rerun this cell to enable.\n",
              "      </output>\n",
              "      <script src=\"/nbextensions/google.colab/files.js\"></script> "
            ],
            "text/plain": [
              "<IPython.core.display.HTML object>"
            ]
          },
          "metadata": {
            "tags": []
          }
        },
        {
          "output_type": "stream",
          "text": [
            "Saving train.csv to train.csv\n"
          ],
          "name": "stdout"
        },
        {
          "output_type": "display_data",
          "data": {
            "text/html": [
              "\n",
              "     <input type=\"file\" id=\"files-2995a0e8-4ce5-4a1d-99b6-abf0c61d49f5\" name=\"files[]\" multiple disabled\n",
              "        style=\"border:none\" />\n",
              "     <output id=\"result-2995a0e8-4ce5-4a1d-99b6-abf0c61d49f5\">\n",
              "      Upload widget is only available when the cell has been executed in the\n",
              "      current browser session. Please rerun this cell to enable.\n",
              "      </output>\n",
              "      <script src=\"/nbextensions/google.colab/files.js\"></script> "
            ],
            "text/plain": [
              "<IPython.core.display.HTML object>"
            ]
          },
          "metadata": {
            "tags": []
          }
        },
        {
          "output_type": "stream",
          "text": [
            "Saving test.csv to test.csv\n"
          ],
          "name": "stdout"
        }
      ]
    },
    {
      "cell_type": "markdown",
      "metadata": {
        "id": "g0l6pM3AZsBk"
      },
      "source": [
        "# **EDA step**\n",
        "\n",
        "> **Total de dados:** 891 registros\\\n",
        "> **Total de features:** 12 features\\\n",
        "> **Feature alvo:** Survived\n",
        "\n",
        "* Cada registro representa um passageiro do Titanic.\n",
        "\n",
        "* A feature alvo (Survived) indica se um determinado passageiro sobreviveu ou não ao naufrágio. \n",
        "\n",
        "* Survived é utilizada na formulação do problema de ML, que visa prever se um determinado passageiro sobreviveu ou não considerando os outros 11 atributos do dataset."
      ]
    },
    {
      "cell_type": "code",
      "metadata": {
        "colab": {
          "base_uri": "https://localhost:8080/"
        },
        "id": "Wf1T4BnS4mrh",
        "outputId": "f5f5e962-7c65-4b9b-e8cf-9c34df348c12"
      },
      "source": [
        "print(train_data.head())\n",
        "print(test_data.head())\n",
        "\n",
        "#print(train_data.shape)\n",
        "#print(train_data.tail())\n",
        "#print(train_data.columns)\n",
        "#print(train_data.describe())\n",
        "print(train_data.info())\n",
        "#print(train_data.isnull().sum())"
      ],
      "execution_count": 3,
      "outputs": [
        {
          "output_type": "stream",
          "text": [
            "   PassengerId  Survived  Pclass  ...     Fare Cabin  Embarked\n",
            "0            1         0       3  ...   7.2500   NaN         S\n",
            "1            2         1       1  ...  71.2833   C85         C\n",
            "2            3         1       3  ...   7.9250   NaN         S\n",
            "3            4         1       1  ...  53.1000  C123         S\n",
            "4            5         0       3  ...   8.0500   NaN         S\n",
            "\n",
            "[5 rows x 12 columns]\n",
            "   PassengerId  Pclass  ... Cabin Embarked\n",
            "0          892       3  ...   NaN        Q\n",
            "1          893       3  ...   NaN        S\n",
            "2          894       2  ...   NaN        Q\n",
            "3          895       3  ...   NaN        S\n",
            "4          896       3  ...   NaN        S\n",
            "\n",
            "[5 rows x 11 columns]\n",
            "<class 'pandas.core.frame.DataFrame'>\n",
            "RangeIndex: 891 entries, 0 to 890\n",
            "Data columns (total 12 columns):\n",
            " #   Column       Non-Null Count  Dtype  \n",
            "---  ------       --------------  -----  \n",
            " 0   PassengerId  891 non-null    int64  \n",
            " 1   Survived     891 non-null    int64  \n",
            " 2   Pclass       891 non-null    int64  \n",
            " 3   Name         891 non-null    object \n",
            " 4   Sex          891 non-null    object \n",
            " 5   Age          714 non-null    float64\n",
            " 6   SibSp        891 non-null    int64  \n",
            " 7   Parch        891 non-null    int64  \n",
            " 8   Ticket       891 non-null    object \n",
            " 9   Fare         891 non-null    float64\n",
            " 10  Cabin        204 non-null    object \n",
            " 11  Embarked     889 non-null    object \n",
            "dtypes: float64(2), int64(5), object(5)\n",
            "memory usage: 83.7+ KB\n",
            "None\n"
          ],
          "name": "stdout"
        }
      ]
    },
    {
      "cell_type": "markdown",
      "metadata": {
        "id": "SB-D2eAN8dcL"
      },
      "source": [
        "**Análise das features mais relevantes:**\n",
        "\n",
        "> **Feature Survived:** Indica se o passageiro sobreviveu ou não ao naufrágio.\n",
        "\n",
        "* Sem dados faltantes.\n",
        "* Valores desbalanceados, onde 62% (549) das pessoas morreram e 38% (342) sobreviveram.\n",
        "* Nota-se que a sobrevivência está relacionada ao número de botes e coletes salva-vidas disponíveis no navio. Fica evidente que não havia material de resgate para todos os passageiros. \n",
        "* Considera-se também alguns casos onde as pessoas não conseguiram chegar à área externa do navio, permanecendo presas dentro do mesmo."
      ]
    },
    {
      "cell_type": "code",
      "metadata": {
        "colab": {
          "base_uri": "https://localhost:8080/",
          "height": 549
        },
        "id": "9NHhQo-0ltBb",
        "outputId": "143657b4-4ca3-443e-969e-2bbd4ce09c43"
      },
      "source": [
        "var='Survived' #indica se a pessoa sobreviveu ou não\n",
        "print('Total de valores da feature %s:\\n%s' % (var, train_data[var].value_counts()))\n",
        "print('Porcentagem total de valores da feature %s:\\n%s\\n' % (var, train_data[var].value_counts(normalize=True))) #feature com valores desbalanceados, onde 62% das pessoas morreram\n",
        "print('Classes de valores únicos da feature %s:\\n%s\\n'  % (var, train_data[var].unique())) #descrição dos valores únicos da feature\n",
        "\n",
        "ax=train_data[var].value_counts().plot.bar()\n",
        "ax.set_title('Distribuição de valores para a feature '+var)\n",
        "ax.set_ylabel('Number of People')\n",
        "ax.set_xticklabels(labels=['Died', 'Survived'])"
      ],
      "execution_count": 32,
      "outputs": [
        {
          "output_type": "stream",
          "text": [
            "Total de valores da feature Survived:\n",
            "0    549\n",
            "1    342\n",
            "Name: Survived, dtype: int64\n",
            "Porcentagem total de valores da feature Survived:\n",
            "0    0.616162\n",
            "1    0.383838\n",
            "Name: Survived, dtype: float64\n",
            "\n",
            "Classes de valores únicos da feature Survived:\n",
            "[0 1]\n",
            "\n"
          ],
          "name": "stdout"
        },
        {
          "output_type": "execute_result",
          "data": {
            "text/plain": [
              "[Text(0, 0, 'Died'), Text(0, 0, 'Survived')]"
            ]
          },
          "metadata": {
            "tags": []
          },
          "execution_count": 32
        },
        {
          "output_type": "display_data",
          "data": {
            "image/png": "[encoded data removed]",
            "text/plain": [
              "<Figure size 432x288 with 1 Axes>"
            ]
          },
          "metadata": {
            "tags": [],
            "needs_background": "light"
          }
        }
      ]
    },
    {
      "cell_type": "markdown",
      "metadata": {
        "id": "E2YJDbz68kEo"
      },
      "source": [
        "> **Feature Sex:**\n",
        "\n",
        "* Sem dados faltantes.\n",
        "* Valores desbalanceados, onde 65% (577) das pessoas eram homens e 35% (314) eram mulheres.\n",
        "* **Q1: Sabe-se que mulheres e crianças tenderam a serem salvas primeiro. Existe uma correlação entre as pessoas que não sobreviveram e o sexo masculino?**"
      ]
    },
    {
      "cell_type": "code",
      "metadata": {
        "colab": {
          "base_uri": "https://localhost:8080/",
          "height": 554
        },
        "id": "7w9_xaVCpW5V",
        "outputId": "1c5be6c3-6331-4f29-f799-ee5825ffa7c0"
      },
      "source": [
        "var='Sex'\n",
        "print('Total de valores da feature %s:\\n%s' % (var, train_data[var].value_counts()))\n",
        "print('Porcentagem total de valores da feature %s:\\n%s\\n' % (var, train_data[var].value_counts(normalize=True))) #feature com valores desbalanceados, onde 65% das pessoas eram homens\n",
        "print('Classes de valores únicos da feature %s:\\n%s\\n'  % (var, train_data[var].unique())) #descrição dos valores únicos da feature\n",
        "ax=train_data[var].value_counts().plot.bar()\n",
        "ax.set_title('Distribuição de valores para a feature '+var)\n",
        "ax.set_xlabel('Sex')\n",
        "ax.set_ylabel('Number of People')"
      ],
      "execution_count": 33,
      "outputs": [
        {
          "output_type": "stream",
          "text": [
            "Total de valores da feature Sex:\n",
            "male      577\n",
            "female    314\n",
            "Name: Sex, dtype: int64\n",
            "Porcentagem total de valores da feature Sex:\n",
            "male      0.647587\n",
            "female    0.352413\n",
            "Name: Sex, dtype: float64\n",
            "\n",
            "Classes de valores únicos da feature Sex:\n",
            "['male' 'female']\n",
            "\n"
          ],
          "name": "stdout"
        },
        {
          "output_type": "execute_result",
          "data": {
            "text/plain": [
              "Text(0, 0.5, 'Number of People')"
            ]
          },
          "metadata": {
            "tags": []
          },
          "execution_count": 33
        },
        {
          "output_type": "display_data",
          "data": {
            "image/png": "[encoded data removed]",
            "text/plain": [
              "<Figure size 432x288 with 1 Axes>"
            ]
          },
          "metadata": {
            "tags": [],
            "needs_background": "light"
          }
        }
      ]
    },
    {
      "cell_type": "markdown",
      "metadata": {
        "id": "khikX7RT8m4i"
      },
      "source": [
        "> **Feature Age:**\n",
        "\n",
        "> Distribuição dos valores:\\\n",
        "**count:**     714\\\n",
        "**missing:**   177\\\n",
        "**mean:**      29.7 anos\\\n",
        "**std:**       14.5 anos\\\n",
        "**min:**      0.4 anos\\\n",
        "**25%:**       20.1 anos\\\n",
        "**50%:**       28 anos\\\n",
        "**75%:**      38 anos\\\n",
        "**max:**       80 anos\n",
        "\n",
        "* **Dados faltantes (177).**\n",
        "* Valores desbalanceados, variando entre 0.4 e 80 anos.\n",
        "* 50% das pessoas apresentam menos de 28 anos.\n",
        "* 75% das pessoas apresentam menos de 38 anos.\n",
        "* Maior concentração de pessoas com idades entre 20 e 40 anos.\n",
        "\n",
        "> * Porcentagem de pessoas com menos de 20 anos:  18.4%\n",
        "* Porcentagem de pessoas do sexo masculino com menos de 20 anos:  10%\n",
        "* Porcentagem de pessoas do sexo feminino com menos de 20 anos:  8.4%\n",
        "* Porcentagem de pessoas entre 20 e 40 anos:  44.9%\n",
        "* Porcentagem de pessoas entre 41 e 65 anos:  15.7%"
      ]
    },
    {
      "cell_type": "code",
      "metadata": {
        "colab": {
          "base_uri": "https://localhost:8080/",
          "height": 1000
        },
        "id": "aoLGayCDp9C7",
        "outputId": "a027fa92-8234-4cc9-b525-1c87b31ecb98"
      },
      "source": [
        "var='Age'\n",
        "print('Total de valores da feature %s:\\n%s' % (var, train_data[var].value_counts()))\n",
        "#print('Porcentagem total de valores da feature %s:\\n%s\\n' % (var, train_data[var].value_counts(normalize=True))) #feature com valores desbalanceados, maior concentração de pessoas com idades entre 20 e 40 anos\n",
        "print('Classes de valores únicos da feature %s:\\n%s\\n'  % (var, train_data[var].unique())) #descrição dos valores únicos da feature\n",
        "print(train_data[var].describe())\n",
        "ax=train_data[var].hist(bins=30)\n",
        "ax.set_title('Distribuição de valores para a feature '+var)\n",
        "\n",
        "print('Porcentagem de pessoas com menos de 20 anos: ', len(train_data[train_data['Age']<20])/len(train_data)*100)\n",
        "print('Porcentagem de pessoas do sexo masculino com menos de 20 anos: ', len(train_data[(train_data['Age']<20) & (train_data['Sex']=='male')])/len(train_data)*100)\n",
        "print('Porcentagem de pessoas do sexo feminino com menos de 20 anos: ', len(train_data[(train_data['Age']<20) & (train_data['Sex']=='female')])/len(train_data)*100)\n",
        "print('Porcentagem de pessoas entre 20 e 40 anos: ', len(train_data[(train_data['Age']>=20) & (train_data['Age']<=40)])/len(train_data)*100)\n",
        "print('Porcentagem de pessoas entre 41 e 65 anos: ', len(train_data[(train_data['Age']>=41) & (train_data['Age']<=65)])/len(train_data)*100)"
      ],
      "execution_count": 6,
      "outputs": [
        {
          "output_type": "stream",
          "text": [
            "Total de valores da feature Age:\n",
            "24.00    30\n",
            "22.00    27\n",
            "18.00    26\n",
            "19.00    25\n",
            "30.00    25\n",
            "         ..\n",
            "55.50     1\n",
            "70.50     1\n",
            "66.00     1\n",
            "23.50     1\n",
            "0.42      1\n",
            "Name: Age, Length: 88, dtype: int64\n",
            "Porcentagem total de valores da feature Age:\n",
            "24.00    0.042017\n",
            "22.00    0.037815\n",
            "18.00    0.036415\n",
            "19.00    0.035014\n",
            "30.00    0.035014\n",
            "           ...   \n",
            "55.50    0.001401\n",
            "70.50    0.001401\n",
            "66.00    0.001401\n",
            "23.50    0.001401\n",
            "0.42     0.001401\n",
            "Name: Age, Length: 88, dtype: float64\n",
            "\n",
            "Classes de valores únicos da feature Age:\n",
            "[22.   38.   26.   35.     nan 54.    2.   27.   14.    4.   58.   20.\n",
            " 39.   55.   31.   34.   15.   28.    8.   19.   40.   66.   42.   21.\n",
            " 18.    3.    7.   49.   29.   65.   28.5   5.   11.   45.   17.   32.\n",
            " 16.   25.    0.83 30.   33.   23.   24.   46.   59.   71.   37.   47.\n",
            " 14.5  70.5  32.5  12.    9.   36.5  51.   55.5  40.5  44.    1.   61.\n",
            " 56.   50.   36.   45.5  20.5  62.   41.   52.   63.   23.5   0.92 43.\n",
            " 60.   10.   64.   13.   48.    0.75 53.   57.   80.   70.   24.5   6.\n",
            "  0.67 30.5   0.42 34.5  74.  ]\n",
            "\n",
            "count    714.000000\n",
            "mean      29.699118\n",
            "std       14.526497\n",
            "min        0.420000\n",
            "25%       20.125000\n",
            "50%       28.000000\n",
            "75%       38.000000\n",
            "max       80.000000\n",
            "Name: Age, dtype: float64\n",
            "Porcentagem de pessoas com menos de 20 anos:  18.40628507295174\n",
            "Porcentagem de pessoas do sexo masculino com menos de 20 anos:  9.988776655443322\n",
            "Porcentagem de pessoas do sexo feminino com menos de 20 anos:  8.417508417508419\n",
            "Porcentagem de pessoas entre 20 e 40 anos:  44.89337822671156\n",
            "Porcentagem de pessoas entre 41 e 65 anos:  15.712682379349047\n"
          ],
          "name": "stdout"
        },
        {
          "output_type": "display_data",
          "data": {
            "image/png": "[encoded data removed]",
            "text/plain": [
              "<Figure size 432x288 with 1 Axes>"
            ]
          },
          "metadata": {
            "tags": [],
            "needs_background": "light"
          }
        }
      ]
    },
    {
      "cell_type": "markdown",
      "metadata": {
        "id": "WBH358x88pXQ"
      },
      "source": [
        "> **Feature Pclass:** Indica a classe ocupada no navio, sendo elas: classe 1 (primeira classe), classe 2 (intermediária) e classe 3 (mais econômica).\n",
        "\n",
        "* Sem dados faltantes.\n",
        "* Valores desbalanceados, onde 55% das pessoas ocupam a classe 3ª classe (mais econômica), 25% ocupam a 2ª classe (intermediária) e 20% estão na primeira classe (mais cara)."
      ]
    },
    {
      "cell_type": "code",
      "metadata": {
        "colab": {
          "base_uri": "https://localhost:8080/",
          "height": 548
        },
        "id": "xIbeWgPhnnoP",
        "outputId": "95d6f4ed-649d-4613-d007-e395c88a0e21"
      },
      "source": [
        "var='Pclass' #indica a classe no navio (1, 2 e 3)\n",
        "print('Total de valores da feature %s:\\n%s' % (var, train_data[var].value_counts()))\n",
        "print('Porcentagem total de valores da feature %s:\\n%s\\n' % (var, train_data[var].value_counts(normalize=True))) #feature com valores desbalanceados, onde 55% das pessoas ocuparam a classe 3 (mais barata), 25% a classe 2 (intermediária) e 20% a primeira classe (mais ricos)\n",
        "print('Classes de valores únicos da feature %s:\\n%s\\n'  % (var, train_data[var].unique())) #descrição dos valores únicos da feature\n",
        "ax=train_data[var].value_counts().plot.bar()\n",
        "ax.set_title('Distribuição de valores para a feature '+var)"
      ],
      "execution_count": 7,
      "outputs": [
        {
          "output_type": "stream",
          "text": [
            "Total de valores da feature Pclass:\n",
            "3    491\n",
            "1    216\n",
            "2    184\n",
            "Name: Pclass, dtype: int64\n",
            "Porcentagem total de valores da feature Pclass:\n",
            "3    0.551066\n",
            "1    0.242424\n",
            "2    0.206510\n",
            "Name: Pclass, dtype: float64\n",
            "\n",
            "Classes de valores únicos da feature Pclass:\n",
            "[3 1 2]\n",
            "\n"
          ],
          "name": "stdout"
        },
        {
          "output_type": "execute_result",
          "data": {
            "text/plain": [
              "Text(0.5, 1.0, 'Distribuição de valores para a feature Pclass')"
            ]
          },
          "metadata": {
            "tags": []
          },
          "execution_count": 7
        },
        {
          "output_type": "display_data",
          "data": {
            "image/png": "[encoded data removed]",
            "text/plain": [
              "<Figure size 432x288 with 1 Axes>"
            ]
          },
          "metadata": {
            "tags": [],
            "needs_background": "light"
          }
        }
      ]
    },
    {
      "cell_type": "markdown",
      "metadata": {
        "id": "_v3NKWyx-_Ly"
      },
      "source": [
        "> **Feature Fare:** Indica o valor da passagem utilizada pelo passageiro.\n",
        "\n",
        "> Distribuição dos valores:\\\n",
        "**count:**    891\\\n",
        "**missing:**  0\\\n",
        "**mean:**     32.2\\\n",
        "**std:**      49.7\\\n",
        "**min:**      0\\\n",
        "**25%:**      7.9\\\n",
        "**50%:**      14.5\\\n",
        "**75%:**      31\\\n",
        "**max:**      512.3\n",
        "\n",
        "* Valores desbalanceados, variando entre 0 e 512:\n",
        "* 75% das pessoas pagaram valores inferiores a 31.\n",
        "* Maior parte das pessoas pagaram valores de passagem entre 0 e 50.\n",
        "\n",
        "* Porcentagem de pessoas que pagaram até 50:  81.9%\\\n",
        "* Porcentagem de pessoas que pagaram até 100:  94.1%\n",
        "\n",
        "> **Discriminação dos valores de passagens para pessoas da classe 3 (classe mais econômica):**\\\n",
        "count:     491\\\n",
        "mean:      13.675550\\\n",
        "std:       11.778142\\\n",
        "min:        0.000000\\\n",
        "25%:        7.750000\\\n",
        "50%:        8.050000\\\n",
        "75%:       15.500000\\\n",
        "max:       69.550000\n",
        "\n",
        "> **Discriminação dos valores de passagens para pessoas da classe 2:**\\\n",
        "count:     184\\\n",
        "mean:     20.662183\\\n",
        "std:       13.417399\\\n",
        "min:       0.000000\\\n",
        "25%:       13.000000\\\n",
        "50%:       14.250000\\\n",
        "75%:       26.000000\\\n",
        "max:       73.500000\n",
        "\n",
        "> **Discriminação dos valores de passagens para pessoas da classe 1 (classe mais cara):**\\\n",
        "count:     216\\\n",
        "mean:      84.154687\\\n",
        "std:      78.380373\\\n",
        "min:       0.000000\\\n",
        "25%:       30.923950\\\n",
        "50%:       60.287500\\\n",
        "75%:       93.500000\\\n",
        "max:       512.329200"
      ]
    },
    {
      "cell_type": "code",
      "metadata": {
        "colab": {
          "base_uri": "https://localhost:8080/",
          "height": 1000
        },
        "id": "eVvN-tVC85_S",
        "outputId": "132b1d7b-a50d-4548-811a-27c781edfe3d"
      },
      "source": [
        "var='Fare' #indica o valor da passagem\n",
        "print('Total de valores da feature %s:\\n%s' % (var, train_data[var].value_counts()))\n",
        "print('Porcentagem total de valores da feature %s:\\n%s\\n' % (var, train_data[var].value_counts(normalize=True))) #feature com valores desbalanceados, onde a maior parte das pessoas pagaram entre 0 e 100. Feature variando entre 0 e 512.\n",
        "#print('Classes de valores únicos da feature %s:\\n%s\\n'  % (var, train_data[var].unique())) #descrição dos valores únicos da feature\n",
        "print(train_data[var].describe())\n",
        "\n",
        "ax=train_data[var].hist(bins=50)\n",
        "ax.set_title('Distribuição de valores para a feature '+var)\n",
        "\n",
        "print('Porcentagem de pessoas que pagaram até 50: ', len(train_data[train_data['Fare']<50])/len(train_data)*100)\n",
        "print('Porcentagem de pessoas que pagaram até 100: ', len(train_data[train_data['Fare']<100])/len(train_data)*100)\n",
        "\n",
        "print('Valores de passagens para classe 3:\\n', train_data['Fare'][train_data['Pclass']==3].describe(), '\\n')\n",
        "print('Valores de passagens para classe 2:\\n',train_data['Fare'][train_data['Pclass']==2].describe(), '\\n')\n",
        "print('Valores de passagens para classe 1:\\n',train_data['Fare'][train_data['Pclass']==1].describe(), '\\n')"
      ],
      "execution_count": 8,
      "outputs": [
        {
          "output_type": "stream",
          "text": [
            "Total de valores da feature Fare:\n",
            "8.0500     43\n",
            "13.0000    42\n",
            "7.8958     38\n",
            "7.7500     34\n",
            "26.0000    31\n",
            "           ..\n",
            "8.4583      1\n",
            "9.8375      1\n",
            "8.3625      1\n",
            "14.1083     1\n",
            "17.4000     1\n",
            "Name: Fare, Length: 248, dtype: int64\n",
            "Porcentagem total de valores da feature Fare:\n",
            "8.0500     0.048260\n",
            "13.0000    0.047138\n",
            "7.8958     0.042649\n",
            "7.7500     0.038159\n",
            "26.0000    0.034792\n",
            "             ...   \n",
            "8.4583     0.001122\n",
            "9.8375     0.001122\n",
            "8.3625     0.001122\n",
            "14.1083    0.001122\n",
            "17.4000    0.001122\n",
            "Name: Fare, Length: 248, dtype: float64\n",
            "\n",
            "count    891.000000\n",
            "mean      32.204208\n",
            "std       49.693429\n",
            "min        0.000000\n",
            "25%        7.910400\n",
            "50%       14.454200\n",
            "75%       31.000000\n",
            "max      512.329200\n",
            "Name: Fare, dtype: float64\n",
            "Porcentagem de pessoas que pagaram até 50:  81.9304152637486\n",
            "Porcentagem de pessoas que pagaram até 100:  94.05162738496072\n",
            "Valores de passagens para classe 3:\n",
            " count    491.000000\n",
            "mean      13.675550\n",
            "std       11.778142\n",
            "min        0.000000\n",
            "25%        7.750000\n",
            "50%        8.050000\n",
            "75%       15.500000\n",
            "max       69.550000\n",
            "Name: Fare, dtype: float64 \n",
            "\n",
            "Valores de passagens para classe 2:\n",
            " count    184.000000\n",
            "mean      20.662183\n",
            "std       13.417399\n",
            "min        0.000000\n",
            "25%       13.000000\n",
            "50%       14.250000\n",
            "75%       26.000000\n",
            "max       73.500000\n",
            "Name: Fare, dtype: float64 \n",
            "\n",
            "Valores de passagens para classe 1:\n",
            " count    216.000000\n",
            "mean      84.154687\n",
            "std       78.380373\n",
            "min        0.000000\n",
            "25%       30.923950\n",
            "50%       60.287500\n",
            "75%       93.500000\n",
            "max      512.329200\n",
            "Name: Fare, dtype: float64 \n",
            "\n"
          ],
          "name": "stdout"
        },
        {
          "output_type": "display_data",
          "data": {
            "image/png": "[encoded data removed]",
            "text/plain": [
              "<Figure size 432x288 with 1 Axes>"
            ]
          },
          "metadata": {
            "tags": [],
            "needs_background": "light"
          }
        }
      ]
    },
    {
      "cell_type": "markdown",
      "metadata": {
        "id": "O-QBpbPzJfwx"
      },
      "source": [
        "**Feature Parch:** Indica com quantos acompanhantes a pessoa estava viajando, sendo eles pais ou filhos.\n",
        "\n",
        "* Sem dados faltantes.\n",
        "* Valores desbalanceados, onde 76% das pessoas estavam viajando sem os pais ou filhos, e 13% estava viajando com apenas um desses acompanhantes."
      ]
    },
    {
      "cell_type": "code",
      "metadata": {
        "colab": {
          "base_uri": "https://localhost:8080/",
          "height": 692
        },
        "id": "1YpSxsZuJjNl",
        "outputId": "724570c0-dd72-450f-c38d-9ec7b94bc3ac"
      },
      "source": [
        "var='Parch' #indica com quantos acompanhantes a pessoa estava viajando, sendo eles pais ou filhos\n",
        "print('Total de valores da feature %s:\\n%s' % (var, train_data[var].value_counts()))\n",
        "print('Porcentagem total de valores da feature %s:\\n%s\\n' % (var, train_data[var].value_counts(normalize=True))) #feature com valores desbalanceados, onde 76% das pessoas estavam viajando sem os pais ou filhos\n",
        "print('Classes de valores únicos da feature %s:\\n%s\\n'  % (var, train_data[var].unique())) #descrição dos valores únicos da feature\n",
        "ax=train_data[var].value_counts().plot.bar()\n",
        "ax.set_title('Distribuição de valores para a feature '+var)"
      ],
      "execution_count": 9,
      "outputs": [
        {
          "output_type": "stream",
          "text": [
            "Total de valores da feature Parch:\n",
            "0    678\n",
            "1    118\n",
            "2     80\n",
            "5      5\n",
            "3      5\n",
            "4      4\n",
            "6      1\n",
            "Name: Parch, dtype: int64\n",
            "Porcentagem total de valores da feature Parch:\n",
            "0    0.760943\n",
            "1    0.132435\n",
            "2    0.089787\n",
            "5    0.005612\n",
            "3    0.005612\n",
            "4    0.004489\n",
            "6    0.001122\n",
            "Name: Parch, dtype: float64\n",
            "\n",
            "Classes de valores únicos da feature Parch:\n",
            "[0 1 2 5 3 4 6]\n",
            "\n"
          ],
          "name": "stdout"
        },
        {
          "output_type": "execute_result",
          "data": {
            "text/plain": [
              "Text(0.5, 1.0, 'Distribuição de valores para a feature Parch')"
            ]
          },
          "metadata": {
            "tags": []
          },
          "execution_count": 9
        },
        {
          "output_type": "display_data",
          "data": {
            "image/png": "[encoded data removed]",
            "text/plain": [
              "<Figure size 432x288 with 1 Axes>"
            ]
          },
          "metadata": {
            "tags": [],
            "needs_background": "light"
          }
        }
      ]
    },
    {
      "cell_type": "markdown",
      "metadata": {
        "id": "4lfa5mLYKEIY"
      },
      "source": [
        "**Feature SibSp:** Indica com quantos acompanhantes a pessoa estava viajando, sendo eles irmãos ou cônjuge.\n",
        "\n",
        "* Sem dados faltantes.\n",
        "* Valores desbalanceados, onde 78% das pessoas estavam viajando sem irmãos ou cônjuge, e 23% estavam viajando com apenas um desses acompanhantes."
      ]
    },
    {
      "cell_type": "code",
      "metadata": {
        "colab": {
          "base_uri": "https://localhost:8080/",
          "height": 692
        },
        "id": "9B8PwyBlKG9u",
        "outputId": "3000ddaa-d138-4923-ed35-2aa75c62df09"
      },
      "source": [
        "var='SibSp' #indica com quantos acompanhantes a pessoa estava viajando, sendo eles irmãos ou cônjuge\n",
        "print('Total de valores da feature %s:\\n%s' % (var, train_data[var].value_counts()))\n",
        "print('Porcentagem total de valores da feature %s:\\n%s\\n' % (var, train_data[var].value_counts(normalize=True))) #feature com valores desbalanceados, onde 78% das pessoas estavam viajando sem irmãos ou cônjuge\n",
        "print('Classes de valores únicos da feature %s:\\n%s\\n'  % (var, train_data[var].unique())) #descrição dos valores únicos da feature\n",
        "ax=train_data[var].value_counts().plot.bar()\n",
        "ax.set_title('Distribuição de valores para a feature '+var)"
      ],
      "execution_count": 10,
      "outputs": [
        {
          "output_type": "stream",
          "text": [
            "Total de valores da feature SibSp:\n",
            "0    608\n",
            "1    209\n",
            "2     28\n",
            "4     18\n",
            "3     16\n",
            "8      7\n",
            "5      5\n",
            "Name: SibSp, dtype: int64\n",
            "Porcentagem total de valores da feature SibSp:\n",
            "0    0.682379\n",
            "1    0.234568\n",
            "2    0.031425\n",
            "4    0.020202\n",
            "3    0.017957\n",
            "8    0.007856\n",
            "5    0.005612\n",
            "Name: SibSp, dtype: float64\n",
            "\n",
            "Classes de valores únicos da feature SibSp:\n",
            "[1 0 3 4 2 5 8]\n",
            "\n"
          ],
          "name": "stdout"
        },
        {
          "output_type": "execute_result",
          "data": {
            "text/plain": [
              "Text(0.5, 1.0, 'Distribuição de valores para a feature SibSp')"
            ]
          },
          "metadata": {
            "tags": []
          },
          "execution_count": 10
        },
        {
          "output_type": "display_data",
          "data": {
            "image/png": "[encoded data removed]",
            "text/plain": [
              "<Figure size 432x288 with 1 Axes>"
            ]
          },
          "metadata": {
            "tags": [],
            "needs_background": "light"
          }
        }
      ]
    },
    {
      "cell_type": "markdown",
      "metadata": {
        "id": "FT5v1bOjMwpP"
      },
      "source": [
        "**Feature Parch e SibSp: Soma das duas features para representar o total de acompanhantes de um passageiro, sendo eles pais, filhos, irmãos ou cônjuge.**\n",
        "\n",
        "* Valores desbalanceados, onde 60% (537) das pessoas estavam viajando sozinhas, e 18% (161) estavam viajando com apenas um acompanhante.\n",
        "*Total de pessoas com um ou mais acompanhantes: 354 pessoas (40%).\n",
        "*Total de pessoas com mais de um acompanhante, sendo pai ou filho e irmão ou cônjuge:  142 pessoas.\n",
        "* Porcentagem de pessoas com mais de um acompanhante, sendo pai ou filho e irmão ou cônjuge:  15.94%"
      ]
    },
    {
      "cell_type": "code",
      "metadata": {
        "colab": {
          "base_uri": "https://localhost:8080/",
          "height": 806
        },
        "id": "NFifqQLVM0Ym",
        "outputId": "b1b01809-761d-4468-98c5-44211862b8ad"
      },
      "source": [
        "train_data['Parch_SibSp']=train_data['Parch']+train_data['SibSp']\n",
        "train_data['Parch_SibSp'].describe()\n",
        "\n",
        "var='Parch_SibSp' #indica com quantos acompanhantes a pessoa estava viajando\n",
        "print('Total de valores da feature %s:\\n%s' % (var, train_data[var].value_counts()))\n",
        "print('Porcentagem total de valores da feature %s:\\n%s\\n' % (var, train_data[var].value_counts(normalize=True))) #feature com valores desbalanceados, onde 60% das pessoas estavam viajando sozinhas\n",
        "print('Classes de valores únicos da feature %s:\\n%s\\n'  % (var, train_data[var].unique())) #descrição dos valores únicos da feature\n",
        "\n",
        "ax=train_data[var].value_counts().plot.bar()\n",
        "ax.set_title('Distribuição de valores para a feature '+var)\n",
        "\n",
        "print('Total de pessoas com um ou mais acompanhantes: ', len(train_data[(train_data['Parch_SibSp']>0)]))\n",
        "print('Total de pessoas com mais de um acompanhante, sendo pai ou filho e irmão ou cônjuge: ', len(train_data[(train_data['Parch']>0) & (train_data['SibSp']>0)]))\n",
        "print('Porcentagem de pessoas com mais de um acompanhante, sendo pai ou filho e irmão ou cônjuge: ', len(train_data[(train_data['Parch']>0) & (train_data['SibSp']>0)])/len(train_data)*100)\n"
      ],
      "execution_count": 11,
      "outputs": [
        {
          "output_type": "stream",
          "text": [
            "Total de valores da feature Parch_SibSp:\n",
            "0     537\n",
            "1     161\n",
            "2     102\n",
            "3      29\n",
            "5      22\n",
            "4      15\n",
            "6      12\n",
            "10      7\n",
            "7       6\n",
            "Name: Parch_SibSp, dtype: int64\n",
            "Porcentagem total de valores da feature Parch_SibSp:\n",
            "0     0.602694\n",
            "1     0.180696\n",
            "2     0.114478\n",
            "3     0.032548\n",
            "5     0.024691\n",
            "4     0.016835\n",
            "6     0.013468\n",
            "10    0.007856\n",
            "7     0.006734\n",
            "Name: Parch_SibSp, dtype: float64\n",
            "\n",
            "Classes de valores únicos da feature Parch_SibSp:\n",
            "[ 1  0  4  2  6  5  3  7 10]\n",
            "\n",
            "Total de pessoas com um ou mais acompanhantes:  354\n",
            "Total de pessoas com mais de um acompanhante, sendo pai ou filho e irmão ou cônjuge:  142\n",
            "Porcentagem de pessoas com mais de um acompanhante, sendo pai ou filho e irmão ou cônjuge:  15.937149270482603\n"
          ],
          "name": "stdout"
        },
        {
          "output_type": "display_data",
          "data": {
            "image/png": "[encoded data removed]",
            "text/plain": [
              "<Figure size 432x288 with 1 Axes>"
            ]
          },
          "metadata": {
            "tags": [],
            "needs_background": "light"
          }
        }
      ]
    },
    {
      "cell_type": "markdown",
      "metadata": {
        "id": "pTpAWUkjoHjZ"
      },
      "source": [
        "# **Correlation between features**"
      ]
    },
    {
      "cell_type": "markdown",
      "metadata": {
        "id": "Sf74_oVTzWRn"
      },
      "source": [
        "# **Feature Transformation**\n",
        "\n",
        "Transformation of nominal features to numerical features.\n"
      ]
    },
    {
      "cell_type": "code",
      "metadata": {
        "id": "tFbxiV6JzbJs"
      },
      "source": [
        "#features = ['Sex_bin', 'Age', 'Pclass', 'SibSp', 'Parch', 'Fare']\n",
        "#print(train_data['Sex'].value_counts())\n",
        "#print(train_data['Embarked'].value_counts())\n",
        "\n",
        "##Transformation of nominal features to numerical features\n",
        "def sex_to_bin(val):\n",
        "    if val=='female':\n",
        "        return 1\n",
        "    else:\n",
        "        return 0\n",
        "\n",
        "def embarked_to_bin(val):\n",
        "    if val=='S':\n",
        "        return 0\n",
        "    elif val=='C':\n",
        "        return 1\n",
        "    elif val=='Q':\n",
        "        return 2\n",
        "\n",
        "train_data['Sex_bin']=train_data['Sex'].map(sex_to_bin)\n",
        "test_data['Sex_bin']=test_data['Sex'].map(sex_to_bin)\n",
        "\n",
        "train_data['Embarked_bin']=train_data['Embarked'].map(embarked_to_bin)\n",
        "test_data['Embarked_bin']=test_data['Embarked'].map(embarked_to_bin)\n",
        "\n",
        "#Booleans\n",
        "train_data['Cabin_null']=train_data['Cabin'].isnull().astype(int) \n",
        "test_data['Cabin_null']=test_data['Cabin'].isnull().astype(int)\n",
        "\n",
        "train_data['Embarked_S']=(train_data['Embarked']=='S').astype(int) \n",
        "test_data['Embarked_S']=(test_data['Embarked']=='S').astype(int)\n",
        "\n",
        "train_data['Embarked_C']=(train_data['Embarked']=='C').astype(int) \n",
        "test_data['Embarked_C']=(test_data['Embarked']=='C').astype(int) \n",
        "\n",
        "train_data['Name_have_Miss']=train_data['Name'].str.contains('Miss').astype(int)\n",
        "train_data['Name_have_Mrs']=train_data['Name'].str.contains('Mrs').astype(int)\n",
        "\n",
        "train_data['Name_have_Mr']=train_data['Name'].str.contains('Mr').astype(int)\n",
        "train_data['Name_have_Master']=train_data['Name'].str.contains('Master').astype(int)\n",
        "train_data['Name_have_Col']=train_data['Name'].str.contains('Col').astype(int)\n",
        "train_data['Name_have_Major']=train_data['Name'].str.contains('Major').astype(int)\n",
        "\n",
        "test_data['Name_have_Miss']=test_data['Name'].str.contains('Miss').astype(int)\n",
        "test_data['Name_have_Mrs']=test_data['Name'].str.contains('Mrs').astype(int)\n",
        "\n",
        "test_data['Name_have_Mr']=test_data['Name'].str.contains('Mr').astype(int)\n",
        "test_data['Name_have_Master']=test_data['Name'].str.contains('Master').astype(int)\n",
        "test_data['Name_have_Col']=test_data['Name'].str.contains('Col').astype(int)\n",
        "test_data['Name_have_Major']=test_data['Name'].str.contains('Major').astype(int)\n",
        "\n",
        "features = ['Sex_bin', 'Age', 'Pclass', 'SibSp', 'Parch', 'Fare', 'Embarked_S', 'Embarked_C', 'Cabin_null', 'Name_have_Miss', 'Name_have_Mrs', \n",
        "            'Name_have_Mr', 'Name_have_Master', 'Name_have_Col', 'Name_have_Major']"
      ],
      "execution_count": 12,
      "outputs": []
    },
    {
      "cell_type": "markdown",
      "metadata": {
        "id": "Dnt-fKRjCTQM"
      },
      "source": [
        "**The 3 steps of Data Prediction:**\n",
        "\n",
        "1 - Fit\n",
        "\n",
        "2 - Validation\n",
        "\n",
        "3 - Test (Prediction)"
      ]
    },
    {
      "cell_type": "markdown",
      "metadata": {
        "id": "pP9HkiKEzu5W"
      },
      "source": [
        "**Train Definition**\n"
      ]
    },
    {
      "cell_type": "code",
      "metadata": {
        "colab": {
          "base_uri": "https://localhost:8080/"
        },
        "id": "7loQRUmCzudB",
        "outputId": "d16f969c-fbe7-4e2c-f9ff-960ede5ce65b"
      },
      "source": [
        "X = train_data[features]\n",
        "y = train_data['Survived']\n",
        "print(X.head(),'\\n')\n",
        "print(y.head())"
      ],
      "execution_count": 13,
      "outputs": [
        {
          "output_type": "stream",
          "text": [
            "   Sex_bin   Age  Pclass  ...  Name_have_Master  Name_have_Col  Name_have_Major\n",
            "0        0  22.0       3  ...                 0              0                0\n",
            "1        1  38.0       1  ...                 0              0                0\n",
            "2        1  26.0       3  ...                 0              0                0\n",
            "3        1  35.0       1  ...                 0              0                0\n",
            "4        0  35.0       3  ...                 0              0                0\n",
            "\n",
            "[5 rows x 15 columns] \n",
            "\n",
            "0    0\n",
            "1    1\n",
            "2    1\n",
            "3    1\n",
            "4    0\n",
            "Name: Survived, dtype: int64\n"
          ],
          "name": "stdout"
        }
      ]
    },
    {
      "cell_type": "markdown",
      "metadata": {
        "id": "140NCF0q0Eey"
      },
      "source": [
        "**Treat Missing**"
      ]
    },
    {
      "cell_type": "code",
      "metadata": {
        "id": "D9zv70XT0DLi"
      },
      "source": [
        "X = X[features].fillna(-1)"
      ],
      "execution_count": 14,
      "outputs": []
    },
    {
      "cell_type": "markdown",
      "metadata": {
        "id": "J8bgBgJHCykg"
      },
      "source": [
        "**Data split between train and validation datasets**"
      ]
    },
    {
      "cell_type": "code",
      "metadata": {
        "colab": {
          "base_uri": "https://localhost:8080/"
        },
        "id": "0lFa8ceaDn8B",
        "outputId": "84af26c3-fcb7-466a-965e-c082c61dd3fa"
      },
      "source": [
        "np.random.seed(0)\n",
        "train_X, val_X, train_y, val_y = train_test_split(X, y, test_size=0.5)\n",
        "print(train_X.head())"
      ],
      "execution_count": 15,
      "outputs": [
        {
          "output_type": "stream",
          "text": [
            "     Sex_bin   Age  Pclass  ...  Name_have_Master  Name_have_Col  Name_have_Major\n",
            "213        0  30.0       2  ...                 0              0                0\n",
            "586        0  47.0       2  ...                 0              0                0\n",
            "499        0  24.0       3  ...                 0              0                0\n",
            "821        0  27.0       3  ...                 0              0                0\n",
            "246        1  25.0       3  ...                 0              0                0\n",
            "\n",
            "[5 rows x 15 columns]\n"
          ],
          "name": "stdout"
        }
      ]
    },
    {
      "cell_type": "markdown",
      "metadata": {
        "id": "3hvB26x_DSb-"
      },
      "source": [
        "**Test Definition**"
      ]
    },
    {
      "cell_type": "code",
      "metadata": {
        "colab": {
          "base_uri": "https://localhost:8080/"
        },
        "id": "tbI4TUdBDVvw",
        "outputId": "af63b954-9cad-4207-fcc9-ec13a523914f"
      },
      "source": [
        "X_test=test_data[features]\n",
        "print(X_test.head(),'\\n')"
      ],
      "execution_count": 16,
      "outputs": [
        {
          "output_type": "stream",
          "text": [
            "   Sex_bin   Age  Pclass  ...  Name_have_Master  Name_have_Col  Name_have_Major\n",
            "0        0  34.5       3  ...                 0              0                0\n",
            "1        1  47.0       3  ...                 0              0                0\n",
            "2        0  62.0       2  ...                 0              0                0\n",
            "3        0  27.0       3  ...                 0              0                0\n",
            "4        1  22.0       3  ...                 0              0                0\n",
            "\n",
            "[5 rows x 15 columns] \n",
            "\n"
          ],
          "name": "stdout"
        }
      ]
    },
    {
      "cell_type": "markdown",
      "metadata": {
        "id": "D4y7NM3BDye7"
      },
      "source": [
        "**Treat Missing**"
      ]
    },
    {
      "cell_type": "code",
      "metadata": {
        "id": "5jFdlalYCuRL"
      },
      "source": [
        "X_test = X_test[features].fillna(-1)"
      ],
      "execution_count": 17,
      "outputs": []
    },
    {
      "cell_type": "markdown",
      "metadata": {
        "id": "Mkszl3bR3Sbp"
      },
      "source": [
        "**ML model - Random Forest**\n",
        "\n",
        "*Datasets:*\n",
        "\n",
        "Train: train_X, train_y\n",
        "\n",
        "Validation: val_X, val_y\n",
        "\n",
        "Test: X_test"
      ]
    },
    {
      "cell_type": "markdown",
      "metadata": {
        "id": "Hml6dcztqc53"
      },
      "source": [
        "**Train step**"
      ]
    },
    {
      "cell_type": "code",
      "metadata": {
        "colab": {
          "base_uri": "https://localhost:8080/"
        },
        "id": "whOkjRc53SoT",
        "outputId": "3241d318-aa97-419b-c16d-86d8bf08e05f"
      },
      "source": [
        "##training\n",
        "rf_model = RandomForestClassifier(n_estimators=100, n_jobs=-1, random_state=0)\n",
        "rf_model.fit(train_X, train_y)\n",
        "\n",
        "##prediction\n",
        "rf_val_predictions = rf_model.predict(val_X)\n",
        "print(rf_val_predictions)"
      ],
      "execution_count": 18,
      "outputs": [
        {
          "output_type": "stream",
          "text": [
            "[0 0 0 1 1 0 1 1 1 1 0 0 0 1 1 1 0 0 0 1 0 1 0 1 1 1 0 1 1 0 0 0 0 0 0 1 0\n",
            " 0 0 0 0 0 0 0 1 0 0 1 0 1 0 0 1 0 0 0 0 0 0 0 0 1 1 0 1 0 1 0 1 1 1 1 0 0\n",
            " 0 1 0 1 0 0 0 1 1 0 0 1 1 1 1 1 0 0 1 1 0 0 1 0 0 0 0 0 0 0 1 1 1 0 0 1 0\n",
            " 1 0 1 0 1 0 1 0 1 0 0 0 0 0 0 0 0 0 0 1 0 0 1 0 0 0 1 0 0 0 1 0 1 1 0 0 0\n",
            " 1 0 1 0 0 0 1 0 1 0 1 1 0 0 1 1 0 0 0 0 0 0 0 1 0 0 0 0 1 0 0 1 0 0 0 0 0\n",
            " 0 1 0 0 1 1 1 0 1 0 0 0 1 1 0 0 0 0 0 0 0 1 0 1 0 0 1 0 1 0 0 0 1 0 1 0 1\n",
            " 1 0 0 0 0 1 0 0 0 1 0 1 0 0 1 1 1 0 0 1 1 0 1 1 1 0 0 1 0 0 1 0 0 1 1 0 0\n",
            " 0 0 0 0 0 0 0 1 0 0 1 0 0 1 1 0 0 0 0 1 1 0 1 0 1 0 0 0 0 0 0 0 0 1 1 1 0\n",
            " 0 0 0 0 1 0 0 1 0 1 0 0 0 0 0 1 1 0 0 1 0 0 0 0 0 1 1 1 1 0 0 0 1 0 1 0 1\n",
            " 1 0 0 0 1 1 0 0 0 0 0 0 1 1 0 0 0 1 1 0 0 1 0 1 1 0 0 0 1 1 1 1 1 1 0 0 1\n",
            " 0 0 1 1 0 0 0 0 1 0 1 0 1 0 0 0 0 0 1 0 0 1 1 0 0 0 1 0 1 0 0 1 0 1 0 0 1\n",
            " 0 0 0 0 0 0 0 0 0 0 0 0 0 0 0 1 0 0 1 0 1 0 0 0 0 1 1 1 0 0 1 0 0 0 1 1 0\n",
            " 0 0]\n"
          ],
          "name": "stdout"
        }
      ]
    },
    {
      "cell_type": "markdown",
      "metadata": {
        "id": "MLrmchAFqgEY"
      },
      "source": [
        "**Validation step**\n",
        "\n",
        "Compare the prediciton for validation and the real target"
      ]
    },
    {
      "cell_type": "code",
      "metadata": {
        "colab": {
          "base_uri": "https://localhost:8080/"
        },
        "id": "CevIATeIqZ2G",
        "outputId": "f90b6f53-15fe-49be-f885-0b3590a0bc48"
      },
      "source": [
        "acc=np.mean(rf_val_predictions==val_y)\n",
        "print(acc)\n",
        "\n",
        "##Comparison with the control submission (with only women)\n",
        "control_predictions=(val_X['Sex_bin']==1).astype(np.int64)\n",
        "print(np.mean(control_predictions==val_y))"
      ],
      "execution_count": 19,
      "outputs": [
        {
          "output_type": "stream",
          "text": [
            "0.7959641255605381\n",
            "0.7825112107623319\n"
          ],
          "name": "stdout"
        }
      ]
    },
    {
      "cell_type": "markdown",
      "metadata": {
        "id": "Ldqy0cXX5ory"
      },
      "source": [
        "**Cross Validation: *Kfold***"
      ]
    },
    {
      "cell_type": "code",
      "metadata": {
        "colab": {
          "base_uri": "https://localhost:8080/"
        },
        "id": "CZeHwIrP51Ly",
        "outputId": "c5f20602-d8cc-4b79-b7a7-506ce0913d9e"
      },
      "source": [
        "list_acc=[]\n",
        "\n",
        "kf=RepeatedKFold(n_splits=2, n_repeats=10, random_state=10)\n",
        "\n",
        "for l_train, l_val in kf.split(X):\n",
        "  #print(l_train.shape[0], l_val.shape[0])\n",
        "  train_X, val_X = X.iloc[l_train], X.iloc[l_val]\n",
        "  train_y, val_y = y.iloc[l_train], y.iloc[l_val]\n",
        "\n",
        "  ##training\n",
        "  #rf_model = RandomForestClassifier(n_estimators=100, n_jobs=-1, random_state=0)\n",
        "  rf_model = LogisticRegression()\n",
        "\n",
        "  rf_model.fit(train_X, train_y)\n",
        "  ##prediction\n",
        "  rf_val_predictions = rf_model.predict(val_X)\n",
        "\n",
        "  acc=np.mean(rf_val_predictions==val_y)\n",
        "  list_acc.append(acc)\n",
        "print(np.mean(list_acc))\n"
      ],
      "execution_count": 20,
      "outputs": [
        {
          "output_type": "stream",
          "text": [
            "/usr/local/lib/python3.7/dist-packages/sklearn/linear_model/_logistic.py:940: ConvergenceWarning: lbfgs failed to converge (status=1):\n",
            "STOP: TOTAL NO. of ITERATIONS REACHED LIMIT.\n",
            "\n",
            "Increase the number of iterations (max_iter) or scale the data as shown in:\n",
            "    https://scikit-learn.org/stable/modules/preprocessing.html\n",
            "Please also refer to the documentation for alternative solver options:\n",
            "    https://scikit-learn.org/stable/modules/linear_model.html#logistic-regression\n",
            "  extra_warning_msg=_LOGISTIC_SOLVER_CONVERGENCE_MSG)\n",
            "/usr/local/lib/python3.7/dist-packages/sklearn/linear_model/_logistic.py:940: ConvergenceWarning: lbfgs failed to converge (status=1):\n",
            "STOP: TOTAL NO. of ITERATIONS REACHED LIMIT.\n",
            "\n",
            "Increase the number of iterations (max_iter) or scale the data as shown in:\n",
            "    https://scikit-learn.org/stable/modules/preprocessing.html\n",
            "Please also refer to the documentation for alternative solver options:\n",
            "    https://scikit-learn.org/stable/modules/linear_model.html#logistic-regression\n",
            "  extra_warning_msg=_LOGISTIC_SOLVER_CONVERGENCE_MSG)\n",
            "/usr/local/lib/python3.7/dist-packages/sklearn/linear_model/_logistic.py:940: ConvergenceWarning: lbfgs failed to converge (status=1):\n",
            "STOP: TOTAL NO. of ITERATIONS REACHED LIMIT.\n",
            "\n",
            "Increase the number of iterations (max_iter) or scale the data as shown in:\n",
            "    https://scikit-learn.org/stable/modules/preprocessing.html\n",
            "Please also refer to the documentation for alternative solver options:\n",
            "    https://scikit-learn.org/stable/modules/linear_model.html#logistic-regression\n",
            "  extra_warning_msg=_LOGISTIC_SOLVER_CONVERGENCE_MSG)\n",
            "/usr/local/lib/python3.7/dist-packages/sklearn/linear_model/_logistic.py:940: ConvergenceWarning: lbfgs failed to converge (status=1):\n",
            "STOP: TOTAL NO. of ITERATIONS REACHED LIMIT.\n",
            "\n",
            "Increase the number of iterations (max_iter) or scale the data as shown in:\n",
            "    https://scikit-learn.org/stable/modules/preprocessing.html\n",
            "Please also refer to the documentation for alternative solver options:\n",
            "    https://scikit-learn.org/stable/modules/linear_model.html#logistic-regression\n",
            "  extra_warning_msg=_LOGISTIC_SOLVER_CONVERGENCE_MSG)\n",
            "/usr/local/lib/python3.7/dist-packages/sklearn/linear_model/_logistic.py:940: ConvergenceWarning: lbfgs failed to converge (status=1):\n",
            "STOP: TOTAL NO. of ITERATIONS REACHED LIMIT.\n",
            "\n",
            "Increase the number of iterations (max_iter) or scale the data as shown in:\n",
            "    https://scikit-learn.org/stable/modules/preprocessing.html\n",
            "Please also refer to the documentation for alternative solver options:\n",
            "    https://scikit-learn.org/stable/modules/linear_model.html#logistic-regression\n",
            "  extra_warning_msg=_LOGISTIC_SOLVER_CONVERGENCE_MSG)\n",
            "/usr/local/lib/python3.7/dist-packages/sklearn/linear_model/_logistic.py:940: ConvergenceWarning: lbfgs failed to converge (status=1):\n",
            "STOP: TOTAL NO. of ITERATIONS REACHED LIMIT.\n",
            "\n",
            "Increase the number of iterations (max_iter) or scale the data as shown in:\n",
            "    https://scikit-learn.org/stable/modules/preprocessing.html\n",
            "Please also refer to the documentation for alternative solver options:\n",
            "    https://scikit-learn.org/stable/modules/linear_model.html#logistic-regression\n",
            "  extra_warning_msg=_LOGISTIC_SOLVER_CONVERGENCE_MSG)\n",
            "/usr/local/lib/python3.7/dist-packages/sklearn/linear_model/_logistic.py:940: ConvergenceWarning: lbfgs failed to converge (status=1):\n",
            "STOP: TOTAL NO. of ITERATIONS REACHED LIMIT.\n",
            "\n",
            "Increase the number of iterations (max_iter) or scale the data as shown in:\n",
            "    https://scikit-learn.org/stable/modules/preprocessing.html\n",
            "Please also refer to the documentation for alternative solver options:\n",
            "    https://scikit-learn.org/stable/modules/linear_model.html#logistic-regression\n",
            "  extra_warning_msg=_LOGISTIC_SOLVER_CONVERGENCE_MSG)\n",
            "/usr/local/lib/python3.7/dist-packages/sklearn/linear_model/_logistic.py:940: ConvergenceWarning: lbfgs failed to converge (status=1):\n",
            "STOP: TOTAL NO. of ITERATIONS REACHED LIMIT.\n",
            "\n",
            "Increase the number of iterations (max_iter) or scale the data as shown in:\n",
            "    https://scikit-learn.org/stable/modules/preprocessing.html\n",
            "Please also refer to the documentation for alternative solver options:\n",
            "    https://scikit-learn.org/stable/modules/linear_model.html#logistic-regression\n",
            "  extra_warning_msg=_LOGISTIC_SOLVER_CONVERGENCE_MSG)\n",
            "/usr/local/lib/python3.7/dist-packages/sklearn/linear_model/_logistic.py:940: ConvergenceWarning: lbfgs failed to converge (status=1):\n",
            "STOP: TOTAL NO. of ITERATIONS REACHED LIMIT.\n",
            "\n",
            "Increase the number of iterations (max_iter) or scale the data as shown in:\n",
            "    https://scikit-learn.org/stable/modules/preprocessing.html\n",
            "Please also refer to the documentation for alternative solver options:\n",
            "    https://scikit-learn.org/stable/modules/linear_model.html#logistic-regression\n",
            "  extra_warning_msg=_LOGISTIC_SOLVER_CONVERGENCE_MSG)\n",
            "/usr/local/lib/python3.7/dist-packages/sklearn/linear_model/_logistic.py:940: ConvergenceWarning: lbfgs failed to converge (status=1):\n",
            "STOP: TOTAL NO. of ITERATIONS REACHED LIMIT.\n",
            "\n",
            "Increase the number of iterations (max_iter) or scale the data as shown in:\n",
            "    https://scikit-learn.org/stable/modules/preprocessing.html\n",
            "Please also refer to the documentation for alternative solver options:\n",
            "    https://scikit-learn.org/stable/modules/linear_model.html#logistic-regression\n",
            "  extra_warning_msg=_LOGISTIC_SOLVER_CONVERGENCE_MSG)\n",
            "/usr/local/lib/python3.7/dist-packages/sklearn/linear_model/_logistic.py:940: ConvergenceWarning: lbfgs failed to converge (status=1):\n",
            "STOP: TOTAL NO. of ITERATIONS REACHED LIMIT.\n",
            "\n",
            "Increase the number of iterations (max_iter) or scale the data as shown in:\n",
            "    https://scikit-learn.org/stable/modules/preprocessing.html\n",
            "Please also refer to the documentation for alternative solver options:\n",
            "    https://scikit-learn.org/stable/modules/linear_model.html#logistic-regression\n",
            "  extra_warning_msg=_LOGISTIC_SOLVER_CONVERGENCE_MSG)\n",
            "/usr/local/lib/python3.7/dist-packages/sklearn/linear_model/_logistic.py:940: ConvergenceWarning: lbfgs failed to converge (status=1):\n",
            "STOP: TOTAL NO. of ITERATIONS REACHED LIMIT.\n",
            "\n",
            "Increase the number of iterations (max_iter) or scale the data as shown in:\n",
            "    https://scikit-learn.org/stable/modules/preprocessing.html\n",
            "Please also refer to the documentation for alternative solver options:\n",
            "    https://scikit-learn.org/stable/modules/linear_model.html#logistic-regression\n",
            "  extra_warning_msg=_LOGISTIC_SOLVER_CONVERGENCE_MSG)\n",
            "/usr/local/lib/python3.7/dist-packages/sklearn/linear_model/_logistic.py:940: ConvergenceWarning: lbfgs failed to converge (status=1):\n",
            "STOP: TOTAL NO. of ITERATIONS REACHED LIMIT.\n",
            "\n",
            "Increase the number of iterations (max_iter) or scale the data as shown in:\n",
            "    https://scikit-learn.org/stable/modules/preprocessing.html\n",
            "Please also refer to the documentation for alternative solver options:\n",
            "    https://scikit-learn.org/stable/modules/linear_model.html#logistic-regression\n",
            "  extra_warning_msg=_LOGISTIC_SOLVER_CONVERGENCE_MSG)\n",
            "/usr/local/lib/python3.7/dist-packages/sklearn/linear_model/_logistic.py:940: ConvergenceWarning: lbfgs failed to converge (status=1):\n",
            "STOP: TOTAL NO. of ITERATIONS REACHED LIMIT.\n",
            "\n",
            "Increase the number of iterations (max_iter) or scale the data as shown in:\n",
            "    https://scikit-learn.org/stable/modules/preprocessing.html\n",
            "Please also refer to the documentation for alternative solver options:\n",
            "    https://scikit-learn.org/stable/modules/linear_model.html#logistic-regression\n",
            "  extra_warning_msg=_LOGISTIC_SOLVER_CONVERGENCE_MSG)\n",
            "/usr/local/lib/python3.7/dist-packages/sklearn/linear_model/_logistic.py:940: ConvergenceWarning: lbfgs failed to converge (status=1):\n",
            "STOP: TOTAL NO. of ITERATIONS REACHED LIMIT.\n",
            "\n",
            "Increase the number of iterations (max_iter) or scale the data as shown in:\n",
            "    https://scikit-learn.org/stable/modules/preprocessing.html\n",
            "Please also refer to the documentation for alternative solver options:\n",
            "    https://scikit-learn.org/stable/modules/linear_model.html#logistic-regression\n",
            "  extra_warning_msg=_LOGISTIC_SOLVER_CONVERGENCE_MSG)\n",
            "/usr/local/lib/python3.7/dist-packages/sklearn/linear_model/_logistic.py:940: ConvergenceWarning: lbfgs failed to converge (status=1):\n",
            "STOP: TOTAL NO. of ITERATIONS REACHED LIMIT.\n",
            "\n",
            "Increase the number of iterations (max_iter) or scale the data as shown in:\n",
            "    https://scikit-learn.org/stable/modules/preprocessing.html\n",
            "Please also refer to the documentation for alternative solver options:\n",
            "    https://scikit-learn.org/stable/modules/linear_model.html#logistic-regression\n",
            "  extra_warning_msg=_LOGISTIC_SOLVER_CONVERGENCE_MSG)\n",
            "/usr/local/lib/python3.7/dist-packages/sklearn/linear_model/_logistic.py:940: ConvergenceWarning: lbfgs failed to converge (status=1):\n",
            "STOP: TOTAL NO. of ITERATIONS REACHED LIMIT.\n",
            "\n",
            "Increase the number of iterations (max_iter) or scale the data as shown in:\n",
            "    https://scikit-learn.org/stable/modules/preprocessing.html\n",
            "Please also refer to the documentation for alternative solver options:\n",
            "    https://scikit-learn.org/stable/modules/linear_model.html#logistic-regression\n",
            "  extra_warning_msg=_LOGISTIC_SOLVER_CONVERGENCE_MSG)\n",
            "/usr/local/lib/python3.7/dist-packages/sklearn/linear_model/_logistic.py:940: ConvergenceWarning: lbfgs failed to converge (status=1):\n",
            "STOP: TOTAL NO. of ITERATIONS REACHED LIMIT.\n",
            "\n",
            "Increase the number of iterations (max_iter) or scale the data as shown in:\n",
            "    https://scikit-learn.org/stable/modules/preprocessing.html\n",
            "Please also refer to the documentation for alternative solver options:\n",
            "    https://scikit-learn.org/stable/modules/linear_model.html#logistic-regression\n",
            "  extra_warning_msg=_LOGISTIC_SOLVER_CONVERGENCE_MSG)\n",
            "/usr/local/lib/python3.7/dist-packages/sklearn/linear_model/_logistic.py:940: ConvergenceWarning: lbfgs failed to converge (status=1):\n",
            "STOP: TOTAL NO. of ITERATIONS REACHED LIMIT.\n",
            "\n",
            "Increase the number of iterations (max_iter) or scale the data as shown in:\n",
            "    https://scikit-learn.org/stable/modules/preprocessing.html\n",
            "Please also refer to the documentation for alternative solver options:\n",
            "    https://scikit-learn.org/stable/modules/linear_model.html#logistic-regression\n",
            "  extra_warning_msg=_LOGISTIC_SOLVER_CONVERGENCE_MSG)\n"
          ],
          "name": "stderr"
        },
        {
          "output_type": "stream",
          "text": [
            "0.8178372046153071\n"
          ],
          "name": "stdout"
        },
        {
          "output_type": "stream",
          "text": [
            "/usr/local/lib/python3.7/dist-packages/sklearn/linear_model/_logistic.py:940: ConvergenceWarning: lbfgs failed to converge (status=1):\n",
            "STOP: TOTAL NO. of ITERATIONS REACHED LIMIT.\n",
            "\n",
            "Increase the number of iterations (max_iter) or scale the data as shown in:\n",
            "    https://scikit-learn.org/stable/modules/preprocessing.html\n",
            "Please also refer to the documentation for alternative solver options:\n",
            "    https://scikit-learn.org/stable/modules/linear_model.html#logistic-regression\n",
            "  extra_warning_msg=_LOGISTIC_SOLVER_CONVERGENCE_MSG)\n"
          ],
          "name": "stderr"
        }
      ]
    },
    {
      "cell_type": "code",
      "metadata": {
        "colab": {
          "base_uri": "https://localhost:8080/"
        },
        "id": "exPHakoJlJLx",
        "outputId": "45b15f52-f9c8-4ac4-e199-49556b1e8706"
      },
      "source": [
        "print(np.mean(list_acc))"
      ],
      "execution_count": 21,
      "outputs": [
        {
          "output_type": "stream",
          "text": [
            "0.8178372046153071\n"
          ],
          "name": "stdout"
        }
      ]
    },
    {
      "cell_type": "markdown",
      "metadata": {
        "id": "KrUqoC2xXYXr"
      },
      "source": [
        "**Error analysis of features: Improve results**\n",
        "\n",
        "Comparing the predicted result with the expected output in recpect of the other variables"
      ]
    },
    {
      "cell_type": "code",
      "metadata": {
        "colab": {
          "base_uri": "https://localhost:8080/"
        },
        "id": "YFJgOMEmXhQ7",
        "outputId": "5644cb5e-78aa-4d1e-eb6f-ae7cd245e3f5"
      },
      "source": [
        "val_X_check = train_data.iloc[l_val].copy()\n",
        "val_X_check['Prediction'] = rf_val_predictions\n",
        "val_X_check.head()\n",
        "X_errors=val_X_check[val_X_check['Survived']!=val_X_check['Prediction']]\n",
        "X_errors=X_errors[['PassengerId', 'Pclass', 'Name', 'Sex', 'Age', 'SibSp',\n",
        "       'Parch', 'Ticket', 'Fare', 'Cabin', 'Embarked', 'Sex_bin',\n",
        "       'Embarked_bin', 'Prediction', 'Survived']]\n",
        "#X_errors.describe()\n",
        "X_errors.head()\n",
        "\n",
        "X_women=X_errors[X_errors['Sex_bin']==1]\n",
        "X_men=X_errors[X_errors['Sex_bin']==0]\n",
        "#print(X_women.sort_values('Survived'))\n",
        "print(X_men.sort_values('Survived'))\n"
      ],
      "execution_count": 22,
      "outputs": [
        {
          "output_type": "stream",
          "text": [
            "     PassengerId  Pclass  ... Prediction Survived\n",
            "475          476       1  ...          1        0\n",
            "452          453       1  ...          1        0\n",
            "373          374       1  ...          1        0\n",
            "766          767       1  ...          1        0\n",
            "185          186       1  ...          1        0\n",
            "536          537       1  ...          1        0\n",
            "139          140       1  ...          1        0\n",
            "118          119       1  ...          1        0\n",
            "788          789       3  ...          0        1\n",
            "569          570       3  ...          0        1\n",
            "579          580       3  ...          0        1\n",
            "838          839       3  ...          0        1\n",
            "599          600       1  ...          0        1\n",
            "604          605       1  ...          0        1\n",
            "621          622       1  ...          0        1\n",
            "622          623       3  ...          0        1\n",
            "643          644       3  ...          0        1\n",
            "804          805       3  ...          0        1\n",
            "821          822       3  ...          0        1\n",
            "673          674       2  ...          0        1\n",
            "553          554       3  ...          0        1\n",
            "707          708       1  ...          0        1\n",
            "744          745       3  ...          0        1\n",
            "762          763       3  ...          0        1\n",
            "630          631       1  ...          0        1\n",
            "690          691       1  ...          0        1\n",
            "21            22       2  ...          0        1\n",
            "489          490       3  ...          0        1\n",
            "23            24       1  ...          0        1\n",
            "36            37       3  ...          0        1\n",
            "146          147       3  ...          0        1\n",
            "165          166       3  ...          0        1\n",
            "187          188       1  ...          0        1\n",
            "248          249       1  ...          0        1\n",
            "271          272       3  ...          0        1\n",
            "283          284       3  ...          0        1\n",
            "512          513       1  ...          0        1\n",
            "338          339       3  ...          0        1\n",
            "391          392       3  ...          0        1\n",
            "400          401       3  ...          0        1\n",
            "414          415       3  ...          0        1\n",
            "429          430       3  ...          0        1\n",
            "444          445       3  ...          0        1\n",
            "447          448       1  ...          0        1\n",
            "453          454       1  ...          0        1\n",
            "857          858       1  ...          0        1\n",
            "348          349       3  ...          0        1\n",
            "869          870       3  ...          0        1\n",
            "\n",
            "[48 rows x 15 columns]\n"
          ],
          "name": "stdout"
        }
      ]
    },
    {
      "cell_type": "markdown",
      "metadata": {
        "id": "2bX0qzTb5J06"
      },
      "source": [
        "**Plotting results**"
      ]
    },
    {
      "cell_type": "code",
      "metadata": {
        "colab": {
          "base_uri": "https://localhost:8080/",
          "height": 427
        },
        "id": "BM1dbdH94Njs",
        "outputId": "7ea629af-f3af-41a5-faf2-4f59188457ad"
      },
      "source": [
        "%matplotlib inline\n",
        "%pylab inline\n",
        "pylab.hist(list_acc)"
      ],
      "execution_count": 23,
      "outputs": [
        {
          "output_type": "stream",
          "text": [
            "Populating the interactive namespace from numpy and matplotlib\n"
          ],
          "name": "stdout"
        },
        {
          "output_type": "stream",
          "text": [
            "/usr/local/lib/python3.7/dist-packages/IPython/core/magics/pylab.py:161: UserWarning: pylab import has clobbered these variables: ['var']\n",
            "`%matplotlib` prevents importing * from pylab and numpy\n",
            "  \"\\n`%matplotlib` prevents importing * from pylab and numpy\"\n"
          ],
          "name": "stderr"
        },
        {
          "output_type": "execute_result",
          "data": {
            "text/plain": [
              "(array([3., 1., 3., 5., 2., 0., 2., 1., 1., 2.]),\n",
              " array([0.8       , 0.80408072, 0.80816143, 0.81224215, 0.81632287,\n",
              "        0.82040359, 0.8244843 , 0.82856502, 0.83264574, 0.83672646,\n",
              "        0.84080717]),\n",
              " <a list of 10 Patch objects>)"
            ]
          },
          "metadata": {
            "tags": []
          },
          "execution_count": 23
        },
        {
          "output_type": "display_data",
          "data": {
            "image/png": "[encoded data removed]",
            "text/plain": [
              "<Figure size 432x288 with 1 Axes>"
            ]
          },
          "metadata": {
            "tags": [],
            "needs_background": "light"
          }
        }
      ]
    },
    {
      "cell_type": "markdown",
      "metadata": {
        "id": "9i5MLpMdA75q"
      },
      "source": [
        "**Test step**\n",
        "\n",
        "Including the entire train and test sets"
      ]
    },
    {
      "cell_type": "code",
      "metadata": {
        "id": "TQAruRFmA-Wo",
        "colab": {
          "base_uri": "https://localhost:8080/"
        },
        "outputId": "9ca508cd-c6ea-4d43-951c-d3ae2239d8b3"
      },
      "source": [
        "##training\n",
        "#rf_model = RandomForestClassifier(n_estimators=100, n_jobs=-1, random_state=0)\n",
        "rf_model = LogisticRegression()\n",
        "rf_model.fit(X, y)\n",
        "\n",
        "##prediction\n",
        "rf_val_predictions = rf_model.predict(X_test)"
      ],
      "execution_count": 24,
      "outputs": [
        {
          "output_type": "stream",
          "text": [
            "/usr/local/lib/python3.7/dist-packages/sklearn/linear_model/_logistic.py:940: ConvergenceWarning: lbfgs failed to converge (status=1):\n",
            "STOP: TOTAL NO. of ITERATIONS REACHED LIMIT.\n",
            "\n",
            "Increase the number of iterations (max_iter) or scale the data as shown in:\n",
            "    https://scikit-learn.org/stable/modules/preprocessing.html\n",
            "Please also refer to the documentation for alternative solver options:\n",
            "    https://scikit-learn.org/stable/modules/linear_model.html#logistic-regression\n",
            "  extra_warning_msg=_LOGISTIC_SOLVER_CONVERGENCE_MSG)\n"
          ],
          "name": "stderr"
        }
      ]
    },
    {
      "cell_type": "markdown",
      "metadata": {
        "id": "0fUyHIGW3ovC"
      },
      "source": [
        "**Save predictions in format used for Titanic competition scoring**"
      ]
    },
    {
      "cell_type": "code",
      "metadata": {
        "colab": {
          "base_uri": "https://localhost:8080/"
        },
        "id": "_-zb3NwE3o4X",
        "outputId": "4f8f75a9-bbae-47f4-c0d4-d0b461ece267"
      },
      "source": [
        "output = pd.DataFrame({'PassengerId': test_data.PassengerId,\n",
        "                       'Survived': rf_val_predictions})\n",
        "\n",
        "#output = pd.Series(rf_val_predictions, index=test_data['PassengerId'], name='Survived')\n",
        "\n",
        "output.to_csv('submission.csv', header=True, index=False)\n",
        "!head -n10 submission.csv\n",
        "#files.download('submission.csv')"
      ],
      "execution_count": 25,
      "outputs": [
        {
          "output_type": "stream",
          "text": [
            "PassengerId,Survived\n",
            "892,0\n",
            "893,1\n",
            "894,0\n",
            "895,0\n",
            "896,1\n",
            "897,0\n",
            "898,1\n",
            "899,0\n",
            "900,1\n"
          ],
          "name": "stdout"
        }
      ]
    }
  ]
}